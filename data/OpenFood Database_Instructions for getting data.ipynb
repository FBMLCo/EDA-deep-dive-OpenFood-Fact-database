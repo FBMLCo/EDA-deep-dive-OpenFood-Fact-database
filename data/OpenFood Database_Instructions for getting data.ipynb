{
 "cells": [
  {
   "cell_type": "markdown",
   "metadata": {},
   "source": [
    "# Instructions to get OpenFood Fact dataset"
   ]
  },
  {
   "cell_type": "markdown",
   "metadata": {},
   "source": [
    "* Please note that this file has been downloaded at the time of the project in 2018\n",
    "\n",
    "* **Link to the file used for this project**: https://drive.google.com/open?id=1ezk9ffiGtaHV19lZq2zXYwEcDJNA1-rJ\n",
    "\n",
    "* A more up-to-date file could be downloaded at: https://world.openfoodfacts.org/data\n"
   ]
  }
 ],
 "metadata": {
  "kernelspec": {
   "display_name": "Python 3",
   "language": "python",
   "name": "python3"
  },
  "language_info": {
   "codemirror_mode": {
    "name": "ipython",
    "version": 3
   },
   "file_extension": ".py",
   "mimetype": "text/x-python",
   "name": "python",
   "nbconvert_exporter": "python",
   "pygments_lexer": "ipython3",
   "version": "3.6.9"
  }
 },
 "nbformat": 4,
 "nbformat_minor": 4
}
